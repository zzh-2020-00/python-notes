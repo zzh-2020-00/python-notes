{
 "cells": [
  {
   "cell_type": "markdown",
   "metadata": {},
   "source": [
    "# 拥有样式的输出（中文）\n",
    "> #### 这篇笔记记录了一个十分好用的第三方包`colorama`。这个包不仅包含颜色，还有更多好用的样式。"
   ]
  },
  {
   "cell_type": "markdown",
   "metadata": {},
   "source": [
    "## 安装与引入\n",
    "在终端（命令行）使用`pip install colorama`来安装。    \n",
    "使用`from colorama import Fore, Back, Style, Cursor`来引入。"
   ]
  },
  {
   "cell_type": "code",
   "execution_count": 1,
   "metadata": {},
   "outputs": [],
   "source": [
    "# 安装与引入 示例代码\n",
    "from colorama import Fore, Back, Style, Cursor"
   ]
  },
  {
   "cell_type": "markdown",
   "metadata": {},
   "source": [
    "## 修改文字颜色\n",
    "`Fore` 是一个类。    \n",
    "使用`Fore.你需要的颜色`来改变字体颜色。    \n",
    "支持的颜色有：\n",
    "- `BLACK`\n",
    "- `BLUE`\n",
    "- `CYAN`\n",
    "- `GREEN`\n",
    "- `LIGHTBLACK_EX`\n",
    "- `LIGHTBLUE_EX`\n",
    "- `LIGHTCYAN_EX`\n",
    "- `LIGHTGREEN_EX`\n",
    "- `LIGHTMAGENTA_EX`\n",
    "- `LIGHTRED_EX`\n",
    "- `LIGHTWHITE_EX`\n",
    "- `LIGHTYELLOW_EX`\n",
    "- `MAGENTA`\n",
    "- `RED`\n",
    "- `RESET` *（重置终端中文本的颜色）*\n",
    "- `WHITE`\n",
    "- `YELLOW`"
   ]
  },
  {
   "cell_type": "code",
   "execution_count": 2,
   "metadata": {},
   "outputs": [
    {
     "name": "stdout",
     "output_type": "stream",
     "text": [
      "\u001b[34mHello, world!\n"
     ]
    }
   ],
   "source": [
    "# 修改文字颜色 示例代码\n",
    "from colorama import Fore\n",
    "print(Fore.BLUE + \"Hello, world!\")"
   ]
  },
  {
   "cell_type": "markdown",
   "metadata": {},
   "source": [
    "> **注意**    \n",
    "> 这个效果会一直持续直到你使用了`Fore.RESET`，`Style.RESET_ALL`或一个新的颜色。"
   ]
  },
  {
   "cell_type": "markdown",
   "metadata": {},
   "source": [
    "## 修改背景颜色\n",
    "使用`Back.你需要的颜色`，其中的颜色与`Fore`相同。"
   ]
  },
  {
   "cell_type": "code",
   "execution_count": 6,
   "metadata": {},
   "outputs": [
    {
     "name": "stdout",
     "output_type": "stream",
     "text": [
      "\u001b[32m\u001b[100mHello, world!\n"
     ]
    }
   ],
   "source": [
    "# 修改背景颜色 示例代码\n",
    "from colorama import Fore, Back\n",
    "print(Fore.GREEN + Back.LIGHTBLACK_EX + \"Hello, world!\")"
   ]
  },
  {
   "cell_type": "markdown",
   "metadata": {},
   "source": [
    "## 更改样式\n",
    "使用`Style.DIM`或`Style.BRIGHT`以使字体变成粗体。\n",
    "\n",
    "> **注意**    \n",
    "> 在没有其他干扰的情况下，上述两个效果相同，但在修改了字体颜色的情况下，只能使用`BRIGHT`。"
   ]
  },
  {
   "cell_type": "code",
   "execution_count": 3,
   "metadata": {},
   "outputs": [
    {
     "name": "stdout",
     "output_type": "stream",
     "text": [
      "\u001b[1mBright\n",
      "\u001b[2mDim\n",
      "\u001b[22mNormal\n"
     ]
    }
   ],
   "source": [
    "# Change Style (1)\n",
    "from colorama import Style\n",
    "print(Style.BRIGHT + \"Bright\")\n",
    "print(Style.DIM + \"Dim\")\n",
    "print(Style.NORMAL + \"Normal\")"
   ]
  },
  {
   "cell_type": "code",
   "execution_count": 5,
   "metadata": {},
   "outputs": [
    {
     "name": "stdout",
     "output_type": "stream",
     "text": [
      "\u001b[31m\u001b[1mThis is a warning. \u001b[22mAnd it is better than this.\n",
      "\u001b[31m\u001b[2mThe bold is missing. v_v\n"
     ]
    }
   ],
   "source": [
    "# Change Style (2)\n",
    "from colorama import Fore, Style\n",
    "print(Fore.RED + Style.BRIGHT + \"This is a warning. \" + Style.NORMAL + \"And it is better than this.\")\n",
    "print(Fore.RED + Style.DIM + \"The bold is missing. v_v\")"
   ]
  }
 ],
 "metadata": {
  "kernelspec": {
   "display_name": "Python 3.10.7 64-bit",
   "language": "python",
   "name": "python3"
  },
  "language_info": {
   "codemirror_mode": {
    "name": "ipython",
    "version": 3
   },
   "file_extension": ".py",
   "mimetype": "text/x-python",
   "name": "python",
   "nbconvert_exporter": "python",
   "pygments_lexer": "ipython3",
   "version": "3.10.7"
  },
  "orig_nbformat": 4,
  "vscode": {
   "interpreter": {
    "hash": "eb4a0ac80907d7f44e1a5e88d3d3381b33e3dbedd3a24d113e876f30a0c46bee"
   }
  }
 },
 "nbformat": 4,
 "nbformat_minor": 2
}
