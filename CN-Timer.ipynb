{
 "cells": [
  {
   "cell_type": "markdown",
   "metadata": {},
   "source": [
    "# 计时器（中文）\n",
    "> #### 我编写了一个简单易用，易于理解的计时器。"
   ]
  },
  {
   "cell_type": "markdown",
   "metadata": {},
   "source": [
    "## Code"
   ]
  },
  {
   "cell_type": "code",
   "execution_count": 5,
   "metadata": {},
   "outputs": [
    {
     "name": "stdout",
     "output_type": "stream",
     "text": [
      "2.0\n"
     ]
    }
   ],
   "source": [
    "# Import\n",
    "import time\n",
    "\n",
    "# Solution\n",
    "class Timer:\n",
    "    start, end = -1, -1\n",
    "    def __init__(self):\n",
    "        pass\n",
    "    def start(self):\n",
    "        self.start = time.time()\n",
    "    def end(self):\n",
    "        self.end = time.time()\n",
    "    def times(self):\n",
    "        return self.end - self.start\n",
    "\n",
    "# Other\n",
    "def pretty(t):\n",
    "    return int(t * 100) / 100\n",
    "\n",
    "# Test\n",
    "timer = Timer()\n",
    "timer.start()\n",
    "time.sleep(2)\n",
    "timer.end()\n",
    "print(pretty(timer.times()))"
   ]
  },
  {
   "cell_type": "markdown",
   "metadata": {},
   "source": [
    "## 方法\n",
    "使用`Timer()`来创建一个计时器。      \n",
    "使用内部函数`start()`和`end()`来启动或停止计时器。    \n",
    "使用内部函数`times()`来获取时间。    \n",
    "计时器可重复使用。    \n",
    "`pretty()`是一个函数，使浮点数更漂亮。    \n",
    "```\n",
    "例如这样：\n",
    ">>> pretty(2.12345)\n",
    "2.12\n",
    "```"
   ]
  }
 ],
 "metadata": {
  "kernelspec": {
   "display_name": "Python 3.10.7 64-bit",
   "language": "python",
   "name": "python3"
  },
  "language_info": {
   "codemirror_mode": {
    "name": "ipython",
    "version": 3
   },
   "file_extension": ".py",
   "mimetype": "text/x-python",
   "name": "python",
   "nbconvert_exporter": "python",
   "pygments_lexer": "ipython3",
   "version": "3.10.7"
  },
  "orig_nbformat": 4,
  "vscode": {
   "interpreter": {
    "hash": "eb4a0ac80907d7f44e1a5e88d3d3381b33e3dbedd3a24d113e876f30a0c46bee"
   }
  }
 },
 "nbformat": 4,
 "nbformat_minor": 2
}
