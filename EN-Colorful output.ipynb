{
 "cells": [
  {
   "cell_type": "markdown",
   "metadata": {},
   "source": [
    "# Colorful output (English)\n",
    "> #### This note will tell you a good third-party package called `colorama` , this package has not only color styles, but also some more useful style."
   ]
  },
  {
   "cell_type": "markdown",
   "metadata": {},
   "source": [
    "## Install and Import\n",
    "To install, type `pip install colorama` in the shell.\n",
    "Use `from colorama import Fore, Back, Style, Cursor` to import."
   ]
  },
  {
   "cell_type": "code",
   "execution_count": 1,
   "metadata": {},
   "outputs": [],
   "source": [
    "# Install and Import\n",
    "from colorama import Fore, Back, Style, Cursor"
   ]
  },
  {
   "cell_type": "markdown",
   "metadata": {},
   "source": [
    "## Change Text Color\n",
    "`Fore` is a class.    \n",
    "Use `Fore.COLOR_YOU_WANT` to change.\n",
    "Colors supported:\n",
    "- `BLACK`\n",
    "- `BLUE`\n",
    "- `CYAN`\n",
    "- `GREEN`\n",
    "- `LIGHTBLACK_EX`\n",
    "- `LIGHTBLUE_EX`\n",
    "- `LIGHTCYAN_EX`\n",
    "- `LIGHTGREEN_EX`\n",
    "- `LIGHTMAGENTA_EX`\n",
    "- `LIGHTRED_EX`\n",
    "- `LIGHTWHITE_EX`\n",
    "- `LIGHTYELLOW_EX`\n",
    "- `MAGENTA`\n",
    "- `RED`\n",
    "- `RESET` *(Reset the color in the console)*\n",
    "- `WHITE`\n",
    "- `YELLOW`"
   ]
  },
  {
   "cell_type": "code",
   "execution_count": 4,
   "metadata": {},
   "outputs": [
    {
     "name": "stdout",
     "output_type": "stream",
     "text": [
      "\u001b[34mHello, world!\n"
     ]
    }
   ],
   "source": [
    "# Change Text Color\n",
    "from colorama import Fore\n",
    "print(Fore.BLUE + \"Hello, world!\")"
   ]
  },
  {
   "cell_type": "markdown",
   "metadata": {},
   "source": [
    "> **Pay Attention**    \n",
    "> The effect will last untill you use `Fore.RESET` , `Style.RESET_ALL` or a new color"
   ]
  },
  {
   "cell_type": "markdown",
   "metadata": {},
   "source": [
    "## Change Backgroung Color\n",
    "Use `Back.COLOR_YOU_WANT` , the colors are same to `Fore`."
   ]
  },
  {
   "cell_type": "code",
   "execution_count": 6,
   "metadata": {},
   "outputs": [
    {
     "name": "stdout",
     "output_type": "stream",
     "text": [
      "\u001b[32m\u001b[100mHello, world!\n"
     ]
    }
   ],
   "source": [
    "# Change Background Color\n",
    "from colorama import Fore, Back\n",
    "print(Fore.GREEN + Back.LIGHTBLACK_EX + \"Hello, world!\")"
   ]
  },
  {
   "cell_type": "markdown",
   "metadata": {},
   "source": [
    "## Change Style\n",
    "Use `Style.DIM` or `Style.BRIGHT` to change the text to bold."
   ]
  },
  {
   "cell_type": "code",
   "execution_count": 3,
   "metadata": {},
   "outputs": [
    {
     "name": "stdout",
     "output_type": "stream",
     "text": [
      "\u001b[1mBright\n",
      "\u001b[2mDim\n",
      "\u001b[22mNormal\n"
     ]
    }
   ],
   "source": [
    "# Change Style (1)\n",
    "from colorama import Style\n",
    "print(Style.BRIGHT + \"Bright\")\n",
    "print(Style.DIM + \"Dim\")\n",
    "print(Style.NORMAL + \"Normal\")"
   ]
  },
  {
   "cell_type": "code",
   "execution_count": 6,
   "metadata": {},
   "outputs": [
    {
     "name": "stdout",
     "output_type": "stream",
     "text": [
      "\u001b[31m\u001b[1mThis is a warning. \u001b[22mAnd it is better than this.\n",
      "\u001b[31m\u001b[2mThe bold is missing. v_v\n"
     ]
    }
   ],
   "source": [
    "# Change Style (2)\n",
    "from colorama import Fore, Style\n",
    "print(Fore.RED + Style.BRIGHT + \"This is a warning. \" + Style.NORMAL + \"And it is better than this.\")\n",
    "print(Fore.RED + Style.DIM + \"The bold is missing. v_v\")"
   ]
  }
 ],
 "metadata": {
  "kernelspec": {
   "display_name": "Python 3.10.7 64-bit",
   "language": "python",
   "name": "python3"
  },
  "language_info": {
   "codemirror_mode": {
    "name": "ipython",
    "version": 3
   },
   "file_extension": ".py",
   "mimetype": "text/x-python",
   "name": "python",
   "nbconvert_exporter": "python",
   "pygments_lexer": "ipython3",
   "version": "3.10.7"
  },
  "orig_nbformat": 4,
  "vscode": {
   "interpreter": {
    "hash": "eb4a0ac80907d7f44e1a5e88d3d3381b33e3dbedd3a24d113e876f30a0c46bee"
   }
  }
 },
 "nbformat": 4,
 "nbformat_minor": 2
}
